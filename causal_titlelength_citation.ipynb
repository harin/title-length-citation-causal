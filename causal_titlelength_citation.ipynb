{
 "cells": [
  {
   "cell_type": "markdown",
   "metadata": {},
   "source": [
    "# Introduction\n",
    "\n",
    "Recently, I was working on a [project](https://github.com/harin/dblp-data-exploration) for Exploratory Data Analysis and Visualization class, where we have chosen to analyze the trends and relationship between computer science paper from the DBLP database. One finding we found is that there is a negative correlation between title length and the number of citations. Since I recently took the Causal Inference class, this is a good opportunity to apply them and see whether shorter title length in fact causes more citations.\n",
    "\n",
    "Note that the data was taken from https://aminer.org/citation."
   ]
  },
  {
   "cell_type": "code",
   "execution_count": 1,
   "metadata": {},
   "outputs": [],
   "source": [
    "import pandas as pd\n",
    "import numpy as np\n",
    "import statsmodels.api as sm\n",
    "from graphviz import Digraph\n",
    "%matplotlib inline"
   ]
  },
  {
   "cell_type": "code",
   "execution_count": 248,
   "metadata": {},
   "outputs": [
    {
     "data": {
      "image/png": "[encoded data removed]",
      "text/plain": [
       "<Figure size 432x288 with 1 Axes>"
      ]
     },
     "metadata": {},
     "output_type": "display_data"
    }
   ],
   "source": [
    "df = pd.read_pickle('dblp.pkl')\n",
    "df['title_len_words'] = df.title.apply(lambda x: len(x.split(' ')))\n",
    "df.sample(100000).plot('title_len_words', 'n_citation', kind='scatter');"
   ]
  },
  {
   "cell_type": "markdown",
   "metadata": {},
   "source": [
    "To investigate whether title length causes number of citation to increase, we first need to come up with a causal graph we believe represents the system. One of the simplest graph we can have is one in which the title length effects the number of citation, but is confounded by the author. This is represented by the graph below:"
   ]
  },
  {
   "cell_type": "code",
   "execution_count": 215,
   "metadata": {},
   "outputs": [
    {
     "data": {
      "image/svg+xml": [
       "<?xml version=\"1.0\" encoding=\"UTF-8\" standalone=\"no\"?>\r\n",
       "<!DOCTYPE svg PUBLIC \"-//W3C//DTD SVG 1.1//EN\"\r\n",
       " \"http://www.w3.org/Graphics/SVG/1.1/DTD/svg11.dtd\">\r\n",
       "<!-- Generated by graphviz version 2.38.0 (20140413.2041)\r\n",
       " -->\r\n",
       "<!-- Title: %3 Pages: 1 -->\r\n",
       "<svg width=\"141pt\" height=\"188pt\"\r\n",
       " viewBox=\"0.00 0.00 140.59 188.00\" xmlns=\"http://www.w3.org/2000/svg\" xmlns:xlink=\"http://www.w3.org/1999/xlink\">\r\n",
       "<g id=\"graph0\" class=\"graph\" transform=\"scale(1 1) rotate(0) translate(4 184)\">\r\n",
       "<title>%3</title>\r\n",
       "<polygon fill=\"white\" stroke=\"none\" points=\"-4,4 -4,-184 136.592,-184 136.592,4 -4,4\"/>\r\n",
       "<!-- D -->\r\n",
       "<g id=\"node1\" class=\"node\"><title>D</title>\r\n",
       "<ellipse fill=\"none\" stroke=\"black\" cx=\"50.6955\" cy=\"-90\" rx=\"50.8918\" ry=\"18\"/>\r\n",
       "<text text-anchor=\"middle\" x=\"50.6955\" y=\"-86.3\" font-family=\"Times New Roman,serif\" font-size=\"14.00\">Title length</text>\r\n",
       "</g>\r\n",
       "<!-- Y -->\r\n",
       "<g id=\"node3\" class=\"node\"><title>Y</title>\r\n",
       "<ellipse fill=\"none\" stroke=\"black\" cx=\"89.6955\" cy=\"-18\" rx=\"42.7926\" ry=\"18\"/>\r\n",
       "<text text-anchor=\"middle\" x=\"89.6955\" y=\"-14.3\" font-family=\"Times New Roman,serif\" font-size=\"14.00\">Citations</text>\r\n",
       "</g>\r\n",
       "<!-- D&#45;&gt;Y -->\r\n",
       "<g id=\"edge1\" class=\"edge\"><title>D&#45;&gt;Y</title>\r\n",
       "<path fill=\"none\" stroke=\"black\" d=\"M60.1363,-72.055C64.7351,-63.8006 70.3619,-53.7014 75.4673,-44.5378\"/>\r\n",
       "<polygon fill=\"black\" stroke=\"black\" points=\"78.532,-46.2282 80.3416,-35.789 72.4171,-42.8212 78.532,-46.2282\"/>\r\n",
       "</g>\r\n",
       "<!-- Z -->\r\n",
       "<g id=\"node2\" class=\"node\"><title>Z</title>\r\n",
       "<ellipse fill=\"none\" stroke=\"black\" cx=\"89.6955\" cy=\"-162\" rx=\"36.2938\" ry=\"18\"/>\r\n",
       "<text text-anchor=\"middle\" x=\"89.6955\" y=\"-158.3\" font-family=\"Times New Roman,serif\" font-size=\"14.00\">Author</text>\r\n",
       "</g>\r\n",
       "<!-- Z&#45;&gt;D -->\r\n",
       "<g id=\"edge2\" class=\"edge\"><title>Z&#45;&gt;D</title>\r\n",
       "<path fill=\"none\" stroke=\"black\" d=\"M80.453,-144.411C75.8579,-136.163 70.2005,-126.009 65.0567,-116.777\"/>\r\n",
       "<polygon fill=\"black\" stroke=\"black\" points=\"68.0671,-114.988 60.1425,-107.956 61.9521,-118.395 68.0671,-114.988\"/>\r\n",
       "</g>\r\n",
       "<!-- Z&#45;&gt;Y -->\r\n",
       "<g id=\"edge3\" class=\"edge\"><title>Z&#45;&gt;Y</title>\r\n",
       "<path fill=\"none\" stroke=\"black\" d=\"M98.1961,-144.306C102.905,-134.108 108.283,-120.638 110.696,-108 113.696,-92.2838 113.696,-87.7162 110.696,-72 108.961,-62.9162 105.696,-53.4028 102.247,-44.9836\"/>\r\n",
       "<polygon fill=\"black\" stroke=\"black\" points=\"105.402,-43.4613 98.1961,-35.6941 98.9854,-46.2595 105.402,-43.4613\"/>\r\n",
       "</g>\r\n",
       "</g>\r\n",
       "</svg>\r\n"
      ],
      "text/plain": [
       "<graphviz.dot.Digraph at 0x2ba050aff28>"
      ]
     },
     "execution_count": 215,
     "metadata": {},
     "output_type": "execute_result"
    }
   ],
   "source": [
    "g = Digraph()\n",
    "g.node('D', 'Title length')\n",
    "g.node('Z', 'Author')\n",
    "g.node('Y', 'Citations')\n",
    "g.edges(['DY', 'ZD', 'ZY'])\n",
    "g"
   ]
  },
  {
   "cell_type": "code",
   "execution_count": 216,
   "metadata": {},
   "outputs": [
    {
     "data": {
      "text/plain": [
       "(3079007, 8)"
      ]
     },
     "execution_count": 216,
     "metadata": {},
     "output_type": "execute_result"
    }
   ],
   "source": [
    "df.shape"
   ]
  },
  {
   "cell_type": "markdown",
   "metadata": {},
   "source": [
    "There is two problems with our causal variable \"Title length\" is that it is not a binary variable, this is a departure from what I've learned, so the result might not be correct. Second, \"Author\" is a categorical data, so we have to convert them to dummy variables, which would limit how many authors we can include in our analysis.\n",
    "\n",
    "## Data Mangling"
   ]
  },
  {
   "cell_type": "code",
   "execution_count": 217,
   "metadata": {},
   "outputs": [
    {
     "data": {
      "text/html": [
       "<div>\n",
       "<style scoped>\n",
       "    .dataframe tbody tr th:only-of-type {\n",
       "        vertical-align: middle;\n",
       "    }\n",
       "\n",
       "    .dataframe tbody tr th {\n",
       "        vertical-align: top;\n",
       "    }\n",
       "\n",
       "    .dataframe thead th {\n",
       "        text-align: right;\n",
       "    }\n",
       "</style>\n",
       "<table border=\"1\" class=\"dataframe\">\n",
       "  <thead>\n",
       "    <tr style=\"text-align: right;\">\n",
       "      <th></th>\n",
       "      <th>authors</th>\n",
       "      <th>id</th>\n",
       "      <th>n_citation</th>\n",
       "      <th>references</th>\n",
       "      <th>title</th>\n",
       "      <th>venue</th>\n",
       "      <th>year</th>\n",
       "      <th>title_len_words</th>\n",
       "    </tr>\n",
       "  </thead>\n",
       "  <tbody>\n",
       "    <tr>\n",
       "      <th>0</th>\n",
       "      <td>[Makoto Satoh, Ryo Muramatsu, Mizue Kayama, Ka...</td>\n",
       "      <td>00127ee2-cb05-48ce-bc49-9de556b93346</td>\n",
       "      <td>0</td>\n",
       "      <td>[51c7e02e-f5ed-431a-8cf5-f761f266d4be, 69b625b...</td>\n",
       "      <td>Preliminary Design of a Network Protocol Learn...</td>\n",
       "      <td>international conference on human-computer int...</td>\n",
       "      <td>2013</td>\n",
       "      <td>26</td>\n",
       "    </tr>\n",
       "    <tr>\n",
       "      <th>1</th>\n",
       "      <td>[Gareth Beale, Graeme Earl]</td>\n",
       "      <td>001c58d3-26ad-46b3-ab3a-c1e557d16821</td>\n",
       "      <td>50</td>\n",
       "      <td>[10482dd3-4642-4193-842f-85f3b70fcf65, 3133714...</td>\n",
       "      <td>A methodology for the physically accurate visu...</td>\n",
       "      <td>visual analytics science and technology</td>\n",
       "      <td>2011</td>\n",
       "      <td>11</td>\n",
       "    </tr>\n",
       "    <tr>\n",
       "      <th>2</th>\n",
       "      <td>[Altaf Hossain, Faisal Zaman, Mohammed Nasser,...</td>\n",
       "      <td>001c8744-73c4-4b04-9364-22d31a10dbf1</td>\n",
       "      <td>50</td>\n",
       "      <td>[2d84c0f2-e656-4ce7-b018-90eda1c132fe, a083a1b...</td>\n",
       "      <td>Comparison of GARCH, Neural Network and Suppor...</td>\n",
       "      <td>pattern recognition and machine intelligence</td>\n",
       "      <td>2009</td>\n",
       "      <td>14</td>\n",
       "    </tr>\n",
       "    <tr>\n",
       "      <th>3</th>\n",
       "      <td>[Jea-Bum Park, Byungmok Kim, Jian Shen, Sun-Yo...</td>\n",
       "      <td>00338203-9eb3-40c5-9f31-cbac73a519ec</td>\n",
       "      <td>0</td>\n",
       "      <td>[8c78e4b0-632b-4293-b491-85b1976675e6, 9cdc54f...</td>\n",
       "      <td>Development of Remote Monitoring and Control D...</td>\n",
       "      <td></td>\n",
       "      <td>2011</td>\n",
       "      <td>16</td>\n",
       "    </tr>\n",
       "    <tr>\n",
       "      <th>4</th>\n",
       "      <td>[Giovanna Guerrini, Isabella Merlo]</td>\n",
       "      <td>0040b022-1472-4f70-a753-74832df65266</td>\n",
       "      <td>2</td>\n",
       "      <td>NaN</td>\n",
       "      <td>Reasonig about Set-Oriented Methods in Object ...</td>\n",
       "      <td></td>\n",
       "      <td>1998</td>\n",
       "      <td>7</td>\n",
       "    </tr>\n",
       "  </tbody>\n",
       "</table>\n",
       "</div>"
      ],
      "text/plain": [
       "                                             authors  \\\n",
       "0  [Makoto Satoh, Ryo Muramatsu, Mizue Kayama, Ka...   \n",
       "1                        [Gareth Beale, Graeme Earl]   \n",
       "2  [Altaf Hossain, Faisal Zaman, Mohammed Nasser,...   \n",
       "3  [Jea-Bum Park, Byungmok Kim, Jian Shen, Sun-Yo...   \n",
       "4                [Giovanna Guerrini, Isabella Merlo]   \n",
       "\n",
       "                                     id  n_citation  \\\n",
       "0  00127ee2-cb05-48ce-bc49-9de556b93346           0   \n",
       "1  001c58d3-26ad-46b3-ab3a-c1e557d16821          50   \n",
       "2  001c8744-73c4-4b04-9364-22d31a10dbf1          50   \n",
       "3  00338203-9eb3-40c5-9f31-cbac73a519ec           0   \n",
       "4  0040b022-1472-4f70-a753-74832df65266           2   \n",
       "\n",
       "                                          references  \\\n",
       "0  [51c7e02e-f5ed-431a-8cf5-f761f266d4be, 69b625b...   \n",
       "1  [10482dd3-4642-4193-842f-85f3b70fcf65, 3133714...   \n",
       "2  [2d84c0f2-e656-4ce7-b018-90eda1c132fe, a083a1b...   \n",
       "3  [8c78e4b0-632b-4293-b491-85b1976675e6, 9cdc54f...   \n",
       "4                                                NaN   \n",
       "\n",
       "                                               title  \\\n",
       "0  Preliminary Design of a Network Protocol Learn...   \n",
       "1  A methodology for the physically accurate visu...   \n",
       "2  Comparison of GARCH, Neural Network and Suppor...   \n",
       "3  Development of Remote Monitoring and Control D...   \n",
       "4  Reasonig about Set-Oriented Methods in Object ...   \n",
       "\n",
       "                                               venue  year  title_len_words  \n",
       "0  international conference on human-computer int...  2013               26  \n",
       "1            visual analytics science and technology  2011               11  \n",
       "2       pattern recognition and machine intelligence  2009               14  \n",
       "3                                                     2011               16  \n",
       "4                                                     1998                7  "
      ]
     },
     "execution_count": 217,
     "metadata": {},
     "output_type": "execute_result"
    }
   ],
   "source": [
    "df.head()"
   ]
  },
  {
   "cell_type": "code",
   "execution_count": 218,
   "metadata": {},
   "outputs": [
    {
     "data": {
      "text/plain": [
       "(3079007, 8)"
      ]
     },
     "execution_count": 218,
     "metadata": {},
     "output_type": "execute_result"
    }
   ],
   "source": [
    "df.shape"
   ]
  },
  {
   "cell_type": "code",
   "execution_count": 219,
   "metadata": {},
   "outputs": [],
   "source": [
    "is_list = df.authors.apply(lambda x: isinstance(x, list))"
   ]
  },
  {
   "cell_type": "code",
   "execution_count": 221,
   "metadata": {},
   "outputs": [
    {
     "data": {
      "text/html": [
       "<div>\n",
       "<style scoped>\n",
       "    .dataframe tbody tr th:only-of-type {\n",
       "        vertical-align: middle;\n",
       "    }\n",
       "\n",
       "    .dataframe tbody tr th {\n",
       "        vertical-align: top;\n",
       "    }\n",
       "\n",
       "    .dataframe thead th {\n",
       "        text-align: right;\n",
       "    }\n",
       "</style>\n",
       "<table border=\"1\" class=\"dataframe\">\n",
       "  <thead>\n",
       "    <tr style=\"text-align: right;\">\n",
       "      <th></th>\n",
       "      <th>authors</th>\n",
       "      <th>id</th>\n",
       "      <th>n_citation</th>\n",
       "      <th>references</th>\n",
       "      <th>title</th>\n",
       "      <th>venue</th>\n",
       "      <th>year</th>\n",
       "      <th>title_len_words</th>\n",
       "    </tr>\n",
       "  </thead>\n",
       "  <tbody>\n",
       "    <tr>\n",
       "      <th>1105528</th>\n",
       "      <td>NaN</td>\n",
       "      <td>634390c1-d4cf-4192-b55f-8ade3af72a08</td>\n",
       "      <td>0</td>\n",
       "      <td>[11e73009-08b3-4361-bd8d-89312b7cc7fa, 866260c...</td>\n",
       "      <td>Elastogram estimation using adaptive-length Sa...</td>\n",
       "      <td>biomedical engineering and informatics</td>\n",
       "      <td>2011</td>\n",
       "      <td>7</td>\n",
       "    </tr>\n",
       "    <tr>\n",
       "      <th>1174531</th>\n",
       "      <td>NaN</td>\n",
       "      <td>736b86b6-715c-4b3b-8d38-d6cd03709bb2</td>\n",
       "      <td>1</td>\n",
       "      <td>NaN</td>\n",
       "      <td>Pose Invariant Face Recognition by Face Synthe...</td>\n",
       "      <td>british machine vision conference</td>\n",
       "      <td>2000</td>\n",
       "      <td>7</td>\n",
       "    </tr>\n",
       "    <tr>\n",
       "      <th>2594452</th>\n",
       "      <td>NaN</td>\n",
       "      <td>9c4cf6a4-3d7a-4892-9acd-dc30336c73f1</td>\n",
       "      <td>1</td>\n",
       "      <td>[1a6ecea3-bad3-4139-8c15-9a35247b8be4, 93cffd7...</td>\n",
       "      <td>An efficient intra-mode decision method for HEVC</td>\n",
       "      <td>Signal, Image and Video Processing</td>\n",
       "      <td>2016</td>\n",
       "      <td>7</td>\n",
       "    </tr>\n",
       "    <tr>\n",
       "      <th>2881547</th>\n",
       "      <td>NaN</td>\n",
       "      <td>81d297e4-0b71-4f14-81e6-7fe51abd1d31</td>\n",
       "      <td>3</td>\n",
       "      <td>NaN</td>\n",
       "      <td>Durchgängiges modellbasiertes Engineering von ...</td>\n",
       "      <td>Automatisierungstechnik</td>\n",
       "      <td>2016</td>\n",
       "      <td>5</td>\n",
       "    </tr>\n",
       "  </tbody>\n",
       "</table>\n",
       "</div>"
      ],
      "text/plain": [
       "        authors                                    id  n_citation  \\\n",
       "1105528     NaN  634390c1-d4cf-4192-b55f-8ade3af72a08           0   \n",
       "1174531     NaN  736b86b6-715c-4b3b-8d38-d6cd03709bb2           1   \n",
       "2594452     NaN  9c4cf6a4-3d7a-4892-9acd-dc30336c73f1           1   \n",
       "2881547     NaN  81d297e4-0b71-4f14-81e6-7fe51abd1d31           3   \n",
       "\n",
       "                                                references  \\\n",
       "1105528  [11e73009-08b3-4361-bd8d-89312b7cc7fa, 866260c...   \n",
       "1174531                                                NaN   \n",
       "2594452  [1a6ecea3-bad3-4139-8c15-9a35247b8be4, 93cffd7...   \n",
       "2881547                                                NaN   \n",
       "\n",
       "                                                     title  \\\n",
       "1105528  Elastogram estimation using adaptive-length Sa...   \n",
       "1174531  Pose Invariant Face Recognition by Face Synthe...   \n",
       "2594452   An efficient intra-mode decision method for HEVC   \n",
       "2881547  Durchgängiges modellbasiertes Engineering von ...   \n",
       "\n",
       "                                          venue  year  title_len_words  \n",
       "1105528  biomedical engineering and informatics  2011                7  \n",
       "1174531       british machine vision conference  2000                7  \n",
       "2594452      Signal, Image and Video Processing  2016                7  \n",
       "2881547                 Automatisierungstechnik  2016                5  "
      ]
     },
     "execution_count": 221,
     "metadata": {},
     "output_type": "execute_result"
    }
   ],
   "source": [
    "df[~is_list]"
   ]
  },
  {
   "cell_type": "code",
   "execution_count": 222,
   "metadata": {},
   "outputs": [],
   "source": [
    "# remove unused columns and remove rows without authors\n",
    "df = df[['authors', 'n_citation', 'title_len_words']] \n",
    "df = df[is_list]"
   ]
  },
  {
   "cell_type": "code",
   "execution_count": 223,
   "metadata": {},
   "outputs": [
    {
     "data": {
      "text/html": [
       "<div>\n",
       "<style scoped>\n",
       "    .dataframe tbody tr th:only-of-type {\n",
       "        vertical-align: middle;\n",
       "    }\n",
       "\n",
       "    .dataframe tbody tr th {\n",
       "        vertical-align: top;\n",
       "    }\n",
       "\n",
       "    .dataframe thead th {\n",
       "        text-align: right;\n",
       "    }\n",
       "</style>\n",
       "<table border=\"1\" class=\"dataframe\">\n",
       "  <thead>\n",
       "    <tr style=\"text-align: right;\">\n",
       "      <th></th>\n",
       "      <th>authors</th>\n",
       "      <th>n_citation</th>\n",
       "      <th>title_len_words</th>\n",
       "    </tr>\n",
       "  </thead>\n",
       "  <tbody>\n",
       "    <tr>\n",
       "      <th>0</th>\n",
       "      <td>[Makoto Satoh, Ryo Muramatsu, Mizue Kayama, Ka...</td>\n",
       "      <td>0</td>\n",
       "      <td>26</td>\n",
       "    </tr>\n",
       "    <tr>\n",
       "      <th>1</th>\n",
       "      <td>[Gareth Beale, Graeme Earl]</td>\n",
       "      <td>50</td>\n",
       "      <td>11</td>\n",
       "    </tr>\n",
       "    <tr>\n",
       "      <th>2</th>\n",
       "      <td>[Altaf Hossain, Faisal Zaman, Mohammed Nasser,...</td>\n",
       "      <td>50</td>\n",
       "      <td>14</td>\n",
       "    </tr>\n",
       "    <tr>\n",
       "      <th>3</th>\n",
       "      <td>[Jea-Bum Park, Byungmok Kim, Jian Shen, Sun-Yo...</td>\n",
       "      <td>0</td>\n",
       "      <td>16</td>\n",
       "    </tr>\n",
       "    <tr>\n",
       "      <th>4</th>\n",
       "      <td>[Giovanna Guerrini, Isabella Merlo]</td>\n",
       "      <td>2</td>\n",
       "      <td>7</td>\n",
       "    </tr>\n",
       "  </tbody>\n",
       "</table>\n",
       "</div>"
      ],
      "text/plain": [
       "                                             authors  n_citation  \\\n",
       "0  [Makoto Satoh, Ryo Muramatsu, Mizue Kayama, Ka...           0   \n",
       "1                        [Gareth Beale, Graeme Earl]          50   \n",
       "2  [Altaf Hossain, Faisal Zaman, Mohammed Nasser,...          50   \n",
       "3  [Jea-Bum Park, Byungmok Kim, Jian Shen, Sun-Yo...           0   \n",
       "4                [Giovanna Guerrini, Isabella Merlo]           2   \n",
       "\n",
       "   title_len_words  \n",
       "0               26  \n",
       "1               11  \n",
       "2               14  \n",
       "3               16  \n",
       "4                7  "
      ]
     },
     "execution_count": 223,
     "metadata": {},
     "output_type": "execute_result"
    }
   ],
   "source": [
    "df.head()"
   ]
  },
  {
   "cell_type": "code",
   "execution_count": 226,
   "metadata": {},
   "outputs": [
    {
     "data": {
      "text/plain": [
       "9476165"
      ]
     },
     "execution_count": 226,
     "metadata": {},
     "output_type": "execute_result"
    }
   ],
   "source": [
    "df['num_authors'] = df.authors.apply(len)\n",
    "df.num_authors.sum()"
   ]
  },
  {
   "cell_type": "code",
   "execution_count": 227,
   "metadata": {},
   "outputs": [],
   "source": [
    "df = df.reset_index()"
   ]
  },
  {
   "cell_type": "code",
   "execution_count": 228,
   "metadata": {},
   "outputs": [
    {
     "name": "stderr",
     "output_type": "stream",
     "text": [
      "C:\\Users\\harinsa\\Anaconda3\\lib\\site-packages\\ipykernel_launcher.py:3: UserWarning: Boolean Series key will be reindexed to match DataFrame index.\n",
      "  This is separate from the ipykernel package so we can avoid doing imports until\n"
     ]
    }
   ],
   "source": [
    "# unroll the authors column\n",
    "rows = []\n",
    "for _, row in df[is_list].iterrows():\n",
    "    for author in row.authors:\n",
    "        rows.append([author, row['index']])"
   ]
  },
  {
   "cell_type": "code",
   "execution_count": 229,
   "metadata": {},
   "outputs": [],
   "source": [
    "author_df = pd.DataFrame(rows)"
   ]
  },
  {
   "cell_type": "code",
   "execution_count": 230,
   "metadata": {},
   "outputs": [
    {
     "data": {
      "text/html": [
       "<div>\n",
       "<style scoped>\n",
       "    .dataframe tbody tr th:only-of-type {\n",
       "        vertical-align: middle;\n",
       "    }\n",
       "\n",
       "    .dataframe tbody tr th {\n",
       "        vertical-align: top;\n",
       "    }\n",
       "\n",
       "    .dataframe thead th {\n",
       "        text-align: right;\n",
       "    }\n",
       "</style>\n",
       "<table border=\"1\" class=\"dataframe\">\n",
       "  <thead>\n",
       "    <tr style=\"text-align: right;\">\n",
       "      <th></th>\n",
       "      <th>0</th>\n",
       "      <th>1</th>\n",
       "    </tr>\n",
       "  </thead>\n",
       "  <tbody>\n",
       "    <tr>\n",
       "      <th>0</th>\n",
       "      <td>Makoto Satoh</td>\n",
       "      <td>0</td>\n",
       "    </tr>\n",
       "    <tr>\n",
       "      <th>1</th>\n",
       "      <td>Ryo Muramatsu</td>\n",
       "      <td>0</td>\n",
       "    </tr>\n",
       "    <tr>\n",
       "      <th>2</th>\n",
       "      <td>Mizue Kayama</td>\n",
       "      <td>0</td>\n",
       "    </tr>\n",
       "    <tr>\n",
       "      <th>3</th>\n",
       "      <td>Kazunori Itoh</td>\n",
       "      <td>0</td>\n",
       "    </tr>\n",
       "    <tr>\n",
       "      <th>4</th>\n",
       "      <td>Masami Hashimoto</td>\n",
       "      <td>0</td>\n",
       "    </tr>\n",
       "  </tbody>\n",
       "</table>\n",
       "</div>"
      ],
      "text/plain": [
       "                  0  1\n",
       "0      Makoto Satoh  0\n",
       "1     Ryo Muramatsu  0\n",
       "2      Mizue Kayama  0\n",
       "3     Kazunori Itoh  0\n",
       "4  Masami Hashimoto  0"
      ]
     },
     "execution_count": 230,
     "metadata": {},
     "output_type": "execute_result"
    }
   ],
   "source": [
    "author_df.head()"
   ]
  },
  {
   "cell_type": "code",
   "execution_count": 231,
   "metadata": {},
   "outputs": [],
   "source": [
    "author_df.columns = ['author', 'index']\n",
    "author_df = author_df.set_index('index') "
   ]
  },
  {
   "cell_type": "code",
   "execution_count": 232,
   "metadata": {},
   "outputs": [
    {
     "data": {
      "text/html": [
       "<div>\n",
       "<style scoped>\n",
       "    .dataframe tbody tr th:only-of-type {\n",
       "        vertical-align: middle;\n",
       "    }\n",
       "\n",
       "    .dataframe tbody tr th {\n",
       "        vertical-align: top;\n",
       "    }\n",
       "\n",
       "    .dataframe thead th {\n",
       "        text-align: right;\n",
       "    }\n",
       "</style>\n",
       "<table border=\"1\" class=\"dataframe\">\n",
       "  <thead>\n",
       "    <tr style=\"text-align: right;\">\n",
       "      <th></th>\n",
       "      <th>author</th>\n",
       "    </tr>\n",
       "    <tr>\n",
       "      <th>index</th>\n",
       "      <th></th>\n",
       "    </tr>\n",
       "  </thead>\n",
       "  <tbody>\n",
       "    <tr>\n",
       "      <th>0</th>\n",
       "      <td>Makoto Satoh</td>\n",
       "    </tr>\n",
       "    <tr>\n",
       "      <th>0</th>\n",
       "      <td>Ryo Muramatsu</td>\n",
       "    </tr>\n",
       "    <tr>\n",
       "      <th>0</th>\n",
       "      <td>Mizue Kayama</td>\n",
       "    </tr>\n",
       "    <tr>\n",
       "      <th>0</th>\n",
       "      <td>Kazunori Itoh</td>\n",
       "    </tr>\n",
       "    <tr>\n",
       "      <th>0</th>\n",
       "      <td>Masami Hashimoto</td>\n",
       "    </tr>\n",
       "  </tbody>\n",
       "</table>\n",
       "</div>"
      ],
      "text/plain": [
       "                 author\n",
       "index                  \n",
       "0          Makoto Satoh\n",
       "0         Ryo Muramatsu\n",
       "0          Mizue Kayama\n",
       "0         Kazunori Itoh\n",
       "0      Masami Hashimoto"
      ]
     },
     "execution_count": 232,
     "metadata": {},
     "output_type": "execute_result"
    }
   ],
   "source": [
    "author_df.head()"
   ]
  },
  {
   "cell_type": "code",
   "execution_count": 233,
   "metadata": {},
   "outputs": [],
   "source": [
    "df = author_df.join(df)[['author', 'title_len_words', 'n_citation', 'num_authors']].reset_index()"
   ]
  },
  {
   "cell_type": "code",
   "execution_count": 234,
   "metadata": {},
   "outputs": [
    {
     "data": {
      "text/html": [
       "<div>\n",
       "<style scoped>\n",
       "    .dataframe tbody tr th:only-of-type {\n",
       "        vertical-align: middle;\n",
       "    }\n",
       "\n",
       "    .dataframe tbody tr th {\n",
       "        vertical-align: top;\n",
       "    }\n",
       "\n",
       "    .dataframe thead th {\n",
       "        text-align: right;\n",
       "    }\n",
       "</style>\n",
       "<table border=\"1\" class=\"dataframe\">\n",
       "  <thead>\n",
       "    <tr style=\"text-align: right;\">\n",
       "      <th></th>\n",
       "      <th>index</th>\n",
       "      <th>author</th>\n",
       "      <th>title_len_words</th>\n",
       "      <th>n_citation</th>\n",
       "      <th>num_authors</th>\n",
       "    </tr>\n",
       "  </thead>\n",
       "  <tbody>\n",
       "    <tr>\n",
       "      <th>0</th>\n",
       "      <td>0</td>\n",
       "      <td>Makoto Satoh</td>\n",
       "      <td>26.0</td>\n",
       "      <td>0.0</td>\n",
       "      <td>8.0</td>\n",
       "    </tr>\n",
       "    <tr>\n",
       "      <th>1</th>\n",
       "      <td>0</td>\n",
       "      <td>Ryo Muramatsu</td>\n",
       "      <td>26.0</td>\n",
       "      <td>0.0</td>\n",
       "      <td>8.0</td>\n",
       "    </tr>\n",
       "    <tr>\n",
       "      <th>2</th>\n",
       "      <td>0</td>\n",
       "      <td>Mizue Kayama</td>\n",
       "      <td>26.0</td>\n",
       "      <td>0.0</td>\n",
       "      <td>8.0</td>\n",
       "    </tr>\n",
       "    <tr>\n",
       "      <th>3</th>\n",
       "      <td>0</td>\n",
       "      <td>Kazunori Itoh</td>\n",
       "      <td>26.0</td>\n",
       "      <td>0.0</td>\n",
       "      <td>8.0</td>\n",
       "    </tr>\n",
       "    <tr>\n",
       "      <th>4</th>\n",
       "      <td>0</td>\n",
       "      <td>Masami Hashimoto</td>\n",
       "      <td>26.0</td>\n",
       "      <td>0.0</td>\n",
       "      <td>8.0</td>\n",
       "    </tr>\n",
       "  </tbody>\n",
       "</table>\n",
       "</div>"
      ],
      "text/plain": [
       "   index            author  title_len_words  n_citation  num_authors\n",
       "0      0      Makoto Satoh             26.0         0.0          8.0\n",
       "1      0     Ryo Muramatsu             26.0         0.0          8.0\n",
       "2      0      Mizue Kayama             26.0         0.0          8.0\n",
       "3      0     Kazunori Itoh             26.0         0.0          8.0\n",
       "4      0  Masami Hashimoto             26.0         0.0          8.0"
      ]
     },
     "execution_count": 234,
     "metadata": {},
     "output_type": "execute_result"
    }
   ],
   "source": [
    "df.head()"
   ]
  },
  {
   "cell_type": "code",
   "execution_count": 237,
   "metadata": {},
   "outputs": [
    {
     "data": {
      "text/html": [
       "<div>\n",
       "<style scoped>\n",
       "    .dataframe tbody tr th:only-of-type {\n",
       "        vertical-align: middle;\n",
       "    }\n",
       "\n",
       "    .dataframe tbody tr th {\n",
       "        vertical-align: top;\n",
       "    }\n",
       "\n",
       "    .dataframe thead th {\n",
       "        text-align: right;\n",
       "    }\n",
       "</style>\n",
       "<table border=\"1\" class=\"dataframe\">\n",
       "  <thead>\n",
       "    <tr style=\"text-align: right;\">\n",
       "      <th></th>\n",
       "      <th>index</th>\n",
       "      <th>author</th>\n",
       "      <th>title_len_words</th>\n",
       "      <th>n_citation</th>\n",
       "      <th>num_authors</th>\n",
       "    </tr>\n",
       "  </thead>\n",
       "  <tbody>\n",
       "    <tr>\n",
       "      <th>0</th>\n",
       "      <td>0</td>\n",
       "      <td>967189</td>\n",
       "      <td>26.0</td>\n",
       "      <td>0.0</td>\n",
       "      <td>8.0</td>\n",
       "    </tr>\n",
       "    <tr>\n",
       "      <th>1</th>\n",
       "      <td>0</td>\n",
       "      <td>1344877</td>\n",
       "      <td>26.0</td>\n",
       "      <td>0.0</td>\n",
       "      <td>8.0</td>\n",
       "    </tr>\n",
       "    <tr>\n",
       "      <th>2</th>\n",
       "      <td>0</td>\n",
       "      <td>1091158</td>\n",
       "      <td>26.0</td>\n",
       "      <td>0.0</td>\n",
       "      <td>8.0</td>\n",
       "    </tr>\n",
       "    <tr>\n",
       "      <th>3</th>\n",
       "      <td>0</td>\n",
       "      <td>831977</td>\n",
       "      <td>26.0</td>\n",
       "      <td>0.0</td>\n",
       "      <td>8.0</td>\n",
       "    </tr>\n",
       "    <tr>\n",
       "      <th>4</th>\n",
       "      <td>0</td>\n",
       "      <td>1021921</td>\n",
       "      <td>26.0</td>\n",
       "      <td>0.0</td>\n",
       "      <td>8.0</td>\n",
       "    </tr>\n",
       "  </tbody>\n",
       "</table>\n",
       "</div>"
      ],
      "text/plain": [
       "   index   author  title_len_words  n_citation  num_authors\n",
       "0      0   967189             26.0         0.0          8.0\n",
       "1      0  1344877             26.0         0.0          8.0\n",
       "2      0  1091158             26.0         0.0          8.0\n",
       "3      0   831977             26.0         0.0          8.0\n",
       "4      0  1021921             26.0         0.0          8.0"
      ]
     },
     "execution_count": 237,
     "metadata": {},
     "output_type": "execute_result"
    }
   ],
   "source": [
    "# Convert author to integers\n",
    "df.author = df.author.astype('category')\n",
    "df.author = df.author.cat.rename_categories(np.arange(len(df.author.cat.categories)))\n",
    "df.head()"
   ]
  },
  {
   "cell_type": "code",
   "execution_count": 238,
   "metadata": {},
   "outputs": [],
   "source": [
    "paper_count = df[['author', 'n_citation']].groupby('author').count()"
   ]
  },
  {
   "cell_type": "code",
   "execution_count": 239,
   "metadata": {},
   "outputs": [],
   "source": [
    "# filter out author with only 1 paper, not sure if this is necessary because we are not doing any matching, but\n",
    "# intuitively, it is probably better to have author with paper with multiple paper length to regress on\n",
    "valid_authors = paper_count[paper_count.n_citation > 1]"
   ]
  },
  {
   "cell_type": "code",
   "execution_count": 240,
   "metadata": {},
   "outputs": [],
   "source": [
    "# use only author with more than one paper\n",
    "df = df[df.author.isin(valid_authors.index)]"
   ]
  },
  {
   "cell_type": "code",
   "execution_count": 241,
   "metadata": {},
   "outputs": [],
   "source": [
    "# remove rows without data\n",
    "df = df.dropna()"
   ]
  },
  {
   "cell_type": "code",
   "execution_count": 242,
   "metadata": {},
   "outputs": [
    {
     "data": {
      "text/plain": [
       "(8577232, 5)"
      ]
     },
     "execution_count": 242,
     "metadata": {},
     "output_type": "execute_result"
    }
   ],
   "source": [
    "df.shape"
   ]
  },
  {
   "cell_type": "code",
   "execution_count": 243,
   "metadata": {},
   "outputs": [
    {
     "data": {
      "text/plain": [
       "Int64Index([      0,       1,       2,       3,       4,       5,       6,\n",
       "                  7,       8,       9,\n",
       "            ...\n",
       "            1766536, 1766537, 1766538, 1766539, 1766540, 1766541, 1766542,\n",
       "            1766543, 1766544, 1766545],\n",
       "           dtype='int64', length=1766546)"
      ]
     },
     "execution_count": 243,
     "metadata": {},
     "output_type": "execute_result"
    }
   ],
   "source": [
    "df.author.cat.categories"
   ]
  },
  {
   "cell_type": "markdown",
   "metadata": {},
   "source": [
    "Still over a million author, would be impossible to do matching. Let's perform matching on a sample of authors instead."
   ]
  },
  {
   "cell_type": "code",
   "execution_count": 244,
   "metadata": {},
   "outputs": [],
   "source": [
    "def regress(n):\n",
    "    author_sample = df.author.cat.categories.to_series().sample(n)\n",
    "    df_sample = df[df.author.isin(author_sample)]\n",
    "    df_sample.author = df_sample.author.astype(int).astype('category')\n",
    "    df_sample.author = df_sample.author.cat.rename_categories(np.arange(len(df_sample.author.cat.categories)))\n",
    "\n",
    "    X = pd.concat([pd.get_dummies(df_sample.author, prefix='author'), df_sample['title_len_words']], axis=1)\n",
    "    sm.add_constant(X)\n",
    "    y = df_sample['n_citation']\n",
    "    model = sm.OLS(y, X)\n",
    "\n",
    "    fit = model.fit()\n",
    "    return fit"
   ]
  },
  {
   "cell_type": "code",
   "execution_count": 245,
   "metadata": {},
   "outputs": [
    {
     "name": "stderr",
     "output_type": "stream",
     "text": [
      "C:\\Users\\harinsa\\Anaconda3\\lib\\site-packages\\pandas\\core\\generic.py:4401: SettingWithCopyWarning: \n",
      "A value is trying to be set on a copy of a slice from a DataFrame.\n",
      "Try using .loc[row_indexer,col_indexer] = value instead\n",
      "\n",
      "See the caveats in the documentation: http://pandas.pydata.org/pandas-docs/stable/indexing.html#indexing-view-versus-copy\n",
      "  self[name] = value\n"
     ]
    },
    {
     "data": {
      "text/plain": [
       "0   -2.130604\n",
       "1    0.512479\n",
       "Name: title_len_words, dtype: float64"
      ]
     },
     "execution_count": 245,
     "metadata": {},
     "output_type": "execute_result"
    }
   ],
   "source": [
    "regress(100).conf_int().loc['title_len_words']"
   ]
  },
  {
   "cell_type": "code",
   "execution_count": 246,
   "metadata": {},
   "outputs": [
    {
     "name": "stderr",
     "output_type": "stream",
     "text": [
      "C:\\Users\\harinsa\\Anaconda3\\lib\\site-packages\\pandas\\core\\generic.py:4401: SettingWithCopyWarning: \n",
      "A value is trying to be set on a copy of a slice from a DataFrame.\n",
      "Try using .loc[row_indexer,col_indexer] = value instead\n",
      "\n",
      "See the caveats in the documentation: http://pandas.pydata.org/pandas-docs/stable/indexing.html#indexing-view-versus-copy\n",
      "  self[name] = value\n"
     ]
    },
    {
     "data": {
      "text/plain": [
       "0   -3.208329\n",
       "1    0.215463\n",
       "Name: title_len_words, dtype: float64"
      ]
     },
     "execution_count": 246,
     "metadata": {},
     "output_type": "execute_result"
    }
   ],
   "source": [
    "regress(1000).conf_int().loc['title_len_words']"
   ]
  },
  {
   "cell_type": "markdown",
   "metadata": {},
   "source": [
    "# Conclusion\n",
    "\n",
    "If OLS is a valid way to remove confounding between \"Title length\" and \"Number of Citations\" then, this experiment have not quite proven that shorter title length results in more citation, as the confidence interval of the coefficient of the title length may still be due to randomness. \n",
    "\n",
    "More important, we first need to verify whether OLS is in fact a good estimator for the causal effect in presence of *non-binary causal state* and *categorical confounder*. Furthermore, here we are not nearly close to the amount of data we have. Each sample we run give conflicting results, some successfully rejects the null, while other did not.\n"
   ]
  },
  {
   "cell_type": "code",
   "execution_count": null,
   "metadata": {},
   "outputs": [],
   "source": []
  }
 ],
 "metadata": {
  "kernelspec": {
   "display_name": "Python 3",
   "language": "python",
   "name": "python3"
  },
  "language_info": {
   "codemirror_mode": {
    "name": "ipython",
    "version": 3
   },
   "file_extension": ".py",
   "mimetype": "text/x-python",
   "name": "python",
   "nbconvert_exporter": "python",
   "pygments_lexer": "ipython3",
   "version": "3.6.5"
  }
 },
 "nbformat": 4,
 "nbformat_minor": 2
}
